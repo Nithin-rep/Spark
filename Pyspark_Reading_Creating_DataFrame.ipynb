{
  "nbformat": 4,
  "nbformat_minor": 0,
  "metadata": {
    "colab": {
      "provenance": []
    },
    "kernelspec": {
      "name": "python3",
      "display_name": "Python 3"
    },
    "language_info": {
      "name": "python"
    }
  },
  "cells": [
    {
      "cell_type": "code",
      "execution_count": 26,
      "metadata": {
        "id": "HrMVIf6H80Un"
      },
      "outputs": [],
      "source": [
        "#pip install pyspark\n"
      ]
    },
    {
      "cell_type": "code",
      "source": [
        "import pyspark"
      ],
      "metadata": {
        "id": "AEwUG21R82-U"
      },
      "execution_count": 27,
      "outputs": []
    },
    {
      "cell_type": "markdown",
      "source": [
        "Creating spark session for sql support"
      ],
      "metadata": {
        "id": "MIrSkL8kBKqC"
      }
    },
    {
      "cell_type": "code",
      "source": [
        "from pyspark.sql import SparkSession\n",
        "\n",
        "spark = SparkSession.builder.appName(\"test\").getOrCreate()\n",
        "\n",
        "data = spark.read.csv(\"project_spark.csv\", sep= \";\", header=True)\n",
        "data.show()"
      ],
      "metadata": {
        "colab": {
          "base_uri": "https://localhost:8080/"
        },
        "id": "1zocBwcL85aK",
        "outputId": "07cf5e13-64ea-42da-ac72-cefc1180a4d1"
      },
      "execution_count": 28,
      "outputs": [
        {
          "output_type": "stream",
          "name": "stdout",
          "text": [
            "+----+---+------+\n",
            "|Name|Age|Salary|\n",
            "+----+---+------+\n",
            "|  AA| 20| 45000|\n",
            "|  BB| 30| 60000|\n",
            "|  CC| 40| 80000|\n",
            "+----+---+------+\n",
            "\n"
          ]
        }
      ]
    },
    {
      "cell_type": "markdown",
      "source": [
        "Operations similar to **Pandas**"
      ],
      "metadata": {
        "id": "FdxY6dF6BBLd"
      }
    },
    {
      "cell_type": "code",
      "source": [
        "print(data.printSchema(), \"\\n\")\n",
        "print(data.columns,\"\\n\")\n",
        "print(data.select([\"Name\", \"Age\"]).show(), \"\\n\")\n",
        "print(data.describe(),\"\\n\")\n",
        "print(type(data))"
      ],
      "metadata": {
        "colab": {
          "base_uri": "https://localhost:8080/"
        },
        "id": "RINvo2sv-5fB",
        "outputId": "777d64b6-b212-4850-ef6e-1a1485ad24c8"
      },
      "execution_count": 34,
      "outputs": [
        {
          "output_type": "stream",
          "name": "stdout",
          "text": [
            "root\n",
            " |-- Name: string (nullable = true)\n",
            " |-- Age: string (nullable = true)\n",
            " |-- Salary: string (nullable = true)\n",
            "\n",
            "None \n",
            "\n",
            "['Name', 'Age', 'Salary'] \n",
            "\n",
            "+----+---+\n",
            "|Name|Age|\n",
            "+----+---+\n",
            "|  AA| 20|\n",
            "|  BB| 30|\n",
            "|  CC| 40|\n",
            "+----+---+\n",
            "\n",
            "None \n",
            "\n",
            "DataFrame[summary: string, Name: string, Age: string, Salary: string] \n",
            "\n",
            "<class 'pyspark.sql.dataframe.DataFrame'>\n"
          ]
        }
      ]
    },
    {
      "cell_type": "markdown",
      "source": [
        "**DataFrame Operations to modify or perform transformations**\n",
        "\n",
        "Reading the data in spark,\n",
        "Adding columns,\n",
        "Dropping columns,\n",
        "Renaming Columns,"
      ],
      "metadata": {
        "id": "8mVzc9B5BaAZ"
      }
    },
    {
      "cell_type": "markdown",
      "source": [
        "Adding a modified column"
      ],
      "metadata": {
        "id": "wm3l7iENCt06"
      }
    },
    {
      "cell_type": "code",
      "source": [
        "# After 3 years of working in the firm\n",
        "\n",
        "forecast = data.withColumn(\"Future Salary Scope\", data[\"Salary\"] +3*5000)\n",
        "forecast.show()"
      ],
      "metadata": {
        "colab": {
          "base_uri": "https://localhost:8080/"
        },
        "id": "XUM0Vk7YAu5b",
        "outputId": "53765cc5-ec32-487f-fc78-f1663dc4cf22"
      },
      "execution_count": 44,
      "outputs": [
        {
          "output_type": "stream",
          "name": "stdout",
          "text": [
            "+----+---+------+-------------------+\n",
            "|Name|Age|Salary|Future Salary Scope|\n",
            "+----+---+------+-------------------+\n",
            "|  AA| 20| 45000|            60000.0|\n",
            "|  BB| 30| 60000|            75000.0|\n",
            "|  CC| 40| 80000|            95000.0|\n",
            "+----+---+------+-------------------+\n",
            "\n"
          ]
        }
      ]
    },
    {
      "cell_type": "markdown",
      "source": [
        "Dropping a Column"
      ],
      "metadata": {
        "id": "iubq2_JOCyVy"
      }
    },
    {
      "cell_type": "code",
      "source": [
        "new_data = forecast.drop(\"Salary\")\n",
        "new_data.show()"
      ],
      "metadata": {
        "colab": {
          "base_uri": "https://localhost:8080/"
        },
        "id": "PYwlwip0Cx1m",
        "outputId": "cb982cdb-7f5b-40fc-c46a-0a41d0fe57eb"
      },
      "execution_count": 49,
      "outputs": [
        {
          "output_type": "stream",
          "name": "stdout",
          "text": [
            "+----+---+-------------------+\n",
            "|Name|Age|Future Salary Scope|\n",
            "+----+---+-------------------+\n",
            "|  AA| 20|            60000.0|\n",
            "|  BB| 30|            75000.0|\n",
            "|  CC| 40|            95000.0|\n",
            "+----+---+-------------------+\n",
            "\n"
          ]
        }
      ]
    },
    {
      "cell_type": "markdown",
      "source": [
        "Rename the columns"
      ],
      "metadata": {
        "id": "1AJxY6TxDX5g"
      }
    },
    {
      "cell_type": "code",
      "source": [
        "renamed_data = new_data.withColumnRenamed(\"Future Salary Scope\", \"Forecasted Salary in 3 years\")\n",
        "renamed_data.show()"
      ],
      "metadata": {
        "colab": {
          "base_uri": "https://localhost:8080/"
        },
        "id": "AqNIaSMcDbRZ",
        "outputId": "dafdc522-820e-4f78-9702-f162d973b88d"
      },
      "execution_count": 51,
      "outputs": [
        {
          "output_type": "stream",
          "name": "stdout",
          "text": [
            "+----+---+----------------------------+\n",
            "|Name|Age|Forecasted Salary in 3 years|\n",
            "+----+---+----------------------------+\n",
            "|  AA| 20|                     60000.0|\n",
            "|  BB| 30|                     75000.0|\n",
            "|  CC| 40|                     95000.0|\n",
            "+----+---+----------------------------+\n",
            "\n"
          ]
        }
      ]
    }
  ]
}