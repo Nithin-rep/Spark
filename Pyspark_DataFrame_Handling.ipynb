{
  "nbformat": 4,
  "nbformat_minor": 0,
  "metadata": {
    "colab": {
      "provenance": []
    },
    "kernelspec": {
      "name": "python3",
      "display_name": "Python 3"
    },
    "language_info": {
      "name": "python"
    }
  },
  "cells": [
    {
      "cell_type": "markdown",
      "source": [
        "Missing Values, dropping columns, rows, filling the missing values"
      ],
      "metadata": {
        "id": "88LtQEsGFkuv"
      }
    },
    {
      "cell_type": "code",
      "execution_count": 93,
      "metadata": {
        "id": "6_oSK6wVFa5Y"
      },
      "outputs": [],
      "source": [
        "#!pip install pyspark\n"
      ]
    },
    {
      "cell_type": "code",
      "source": [
        "import pyspark\n",
        "\n",
        "from pyspark.sql import SparkSession\n",
        "spark = SparkSession.builder.appName(\"handling data\").getOrCreate()"
      ],
      "metadata": {
        "id": "DsIBashJGDFB"
      },
      "execution_count": 94,
      "outputs": []
    },
    {
      "cell_type": "code",
      "source": [
        "data = spark.read.csv(\"project_spark.csv\", header =True, sep=\";\")\n",
        "data.show()"
      ],
      "metadata": {
        "colab": {
          "base_uri": "https://localhost:8080/"
        },
        "id": "8bMRacIRGpy_",
        "outputId": "4034dc8f-4721-41c7-e354-4fcdbe521eed"
      },
      "execution_count": 95,
      "outputs": [
        {
          "output_type": "stream",
          "name": "stdout",
          "text": [
            "+----+----+------+\n",
            "|Name| Age|Salary|\n",
            "+----+----+------+\n",
            "|  AA|  20| 45000|\n",
            "|  BB|  30| 60000|\n",
            "|  CC|  40| 80000|\n",
            "|  EE|null| 40000|\n",
            "+----+----+------+\n",
            "\n"
          ]
        }
      ]
    },
    {
      "cell_type": "markdown",
      "source": [
        "Dropping na"
      ],
      "metadata": {
        "id": "G1Fl-3O4KOGl"
      }
    },
    {
      "cell_type": "code",
      "source": [
        "#Column Drop\n",
        "data.drop(\"Salary\").show()"
      ],
      "metadata": {
        "colab": {
          "base_uri": "https://localhost:8080/"
        },
        "id": "MQPZhE6HGyeR",
        "outputId": "6616335a-a030-4b39-cc50-6e0c42db92d2"
      },
      "execution_count": 96,
      "outputs": [
        {
          "output_type": "stream",
          "name": "stdout",
          "text": [
            "+----+----+\n",
            "|Name| Age|\n",
            "+----+----+\n",
            "|  AA|  20|\n",
            "|  BB|  30|\n",
            "|  CC|  40|\n",
            "|  EE|null|\n",
            "+----+----+\n",
            "\n"
          ]
        }
      ]
    },
    {
      "cell_type": "code",
      "source": [
        "#Dropping na\n",
        "data.dropna().show()\n",
        "data.na.drop().show()"
      ],
      "metadata": {
        "colab": {
          "base_uri": "https://localhost:8080/"
        },
        "id": "GA6EtXB6LsPI",
        "outputId": "c8e20d1d-52de-4bf7-9c12-8873ebbc33d3"
      },
      "execution_count": 97,
      "outputs": [
        {
          "output_type": "stream",
          "name": "stdout",
          "text": [
            "+----+---+------+\n",
            "|Name|Age|Salary|\n",
            "+----+---+------+\n",
            "|  AA| 20| 45000|\n",
            "|  BB| 30| 60000|\n",
            "|  CC| 40| 80000|\n",
            "+----+---+------+\n",
            "\n",
            "+----+---+------+\n",
            "|Name|Age|Salary|\n",
            "+----+---+------+\n",
            "|  AA| 20| 45000|\n",
            "|  BB| 30| 60000|\n",
            "|  CC| 40| 80000|\n",
            "+----+---+------+\n",
            "\n"
          ]
        }
      ]
    },
    {
      "cell_type": "code",
      "source": [
        "#drop if all columns without na are above or equal to a threshold\n",
        "#if there are not enough non na columns in a row\n",
        "data.na.drop(how = \"any\", thresh=3).show()"
      ],
      "metadata": {
        "colab": {
          "base_uri": "https://localhost:8080/"
        },
        "id": "dm77U3swLvW-",
        "outputId": "7cae01a7-82d0-4a41-d7b0-0e8e9770f3e1"
      },
      "execution_count": 98,
      "outputs": [
        {
          "output_type": "stream",
          "name": "stdout",
          "text": [
            "+----+---+------+\n",
            "|Name|Age|Salary|\n",
            "+----+---+------+\n",
            "|  AA| 20| 45000|\n",
            "|  BB| 30| 60000|\n",
            "|  CC| 40| 80000|\n",
            "+----+---+------+\n",
            "\n"
          ]
        }
      ]
    },
    {
      "cell_type": "code",
      "source": [
        "#Check na only in a specific column\n",
        "data.na.drop(how = \"any\", subset = [\"Age\"]).show()"
      ],
      "metadata": {
        "colab": {
          "base_uri": "https://localhost:8080/"
        },
        "id": "OGt-Sh5sLwVe",
        "outputId": "1ef403d2-4c05-4ac1-e47c-3b9b3fd22c8b"
      },
      "execution_count": 99,
      "outputs": [
        {
          "output_type": "stream",
          "name": "stdout",
          "text": [
            "+----+---+------+\n",
            "|Name|Age|Salary|\n",
            "+----+---+------+\n",
            "|  AA| 20| 45000|\n",
            "|  BB| 30| 60000|\n",
            "|  CC| 40| 80000|\n",
            "+----+---+------+\n",
            "\n"
          ]
        }
      ]
    },
    {
      "cell_type": "code",
      "source": [
        "#drop only if all columns are null\n",
        "data.na.drop(how = \"all\").show()\n",
        "\n",
        "#data.na.drop(\"any\").show()"
      ],
      "metadata": {
        "colab": {
          "base_uri": "https://localhost:8080/"
        },
        "id": "q1fiLlrmLySl",
        "outputId": "51dfd330-a80e-4bf1-96ce-9709c526a2a8"
      },
      "execution_count": 100,
      "outputs": [
        {
          "output_type": "stream",
          "name": "stdout",
          "text": [
            "+----+----+------+\n",
            "|Name| Age|Salary|\n",
            "+----+----+------+\n",
            "|  AA|  20| 45000|\n",
            "|  BB|  30| 60000|\n",
            "|  CC|  40| 80000|\n",
            "|  EE|null| 40000|\n",
            "+----+----+------+\n",
            "\n"
          ]
        }
      ]
    },
    {
      "cell_type": "markdown",
      "source": [
        "\n",
        "Filling na\n",
        "\n"
      ],
      "metadata": {
        "id": "VtTbb7QnKIb2"
      }
    },
    {
      "cell_type": "code",
      "source": [
        "data.na.fill(\"missing\", [\"Age\"]).show()"
      ],
      "metadata": {
        "colab": {
          "base_uri": "https://localhost:8080/"
        },
        "id": "3c-ljtFeKKqD",
        "outputId": "3eb8a427-54eb-47ae-bf2f-86fdaeb8cac4"
      },
      "execution_count": 101,
      "outputs": [
        {
          "output_type": "stream",
          "name": "stdout",
          "text": [
            "+----+-------+------+\n",
            "|Name|    Age|Salary|\n",
            "+----+-------+------+\n",
            "|  AA|     20| 45000|\n",
            "|  BB|     30| 60000|\n",
            "|  CC|     40| 80000|\n",
            "|  EE|missing| 40000|\n",
            "+----+-------+------+\n",
            "\n"
          ]
        }
      ]
    },
    {
      "cell_type": "code",
      "source": [
        "print(data.columns)\n",
        "print(list(f'Imputed {i}' for i in data.columns))\n",
        "print(list(map(lambda i: f'Imputed {i}', data.columns)))"
      ],
      "metadata": {
        "colab": {
          "base_uri": "https://localhost:8080/"
        },
        "id": "mnbqmgx1Nmm_",
        "outputId": "c9ef0ffa-50a4-4f85-dfc0-a725490895f5"
      },
      "execution_count": 102,
      "outputs": [
        {
          "output_type": "stream",
          "name": "stdout",
          "text": [
            "['Name', 'Age', 'Salary']\n",
            "['Imputed Name', 'Imputed Age', 'Imputed Salary']\n",
            "['Imputed Name', 'Imputed Age', 'Imputed Salary']\n"
          ]
        }
      ]
    },
    {
      "cell_type": "code",
      "source": [
        "from pyspark.ml.feature import Imputer\n",
        "\n",
        "new_data = data.drop(\"Name\")\n",
        "new_data = new_data.withColumn(\"Age\", new_data[\"Age\"].cast(\"int\"))\n",
        "new_data = new_data.withColumn(\"Salary\", new_data[\"Salary\"].cast(\"int\"))\n",
        "\n",
        "imputer = Imputer(\n",
        "    inputCols = new_data.columns,\n",
        "    outputCols = list(map(lambda i: f'Imputed {i}', new_data.columns))\n",
        ").setStrategy(\"mean\")"
      ],
      "metadata": {
        "id": "QPb7TUOQKKz8"
      },
      "execution_count": 124,
      "outputs": []
    },
    {
      "cell_type": "code",
      "source": [
        "imputer.fit(new_data).transform(new_data).show()"
      ],
      "metadata": {
        "colab": {
          "base_uri": "https://localhost:8080/"
        },
        "id": "oW-ZUseAG8PC",
        "outputId": "09a65ef2-a0cf-451a-e2f2-0cae1a2e7b8f"
      },
      "execution_count": 125,
      "outputs": [
        {
          "output_type": "stream",
          "name": "stdout",
          "text": [
            "+----+------+-----------+--------------+\n",
            "| Age|Salary|Imputed Age|Imputed Salary|\n",
            "+----+------+-----------+--------------+\n",
            "|  20| 45000|         20|         45000|\n",
            "|  30| 60000|         30|         60000|\n",
            "|  40| 80000|         40|         80000|\n",
            "|null| 40000|         30|         40000|\n",
            "+----+------+-----------+--------------+\n",
            "\n"
          ]
        }
      ]
    }
  ]
}