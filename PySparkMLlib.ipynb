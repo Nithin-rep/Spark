{
  "nbformat": 4,
  "nbformat_minor": 0,
  "metadata": {
    "colab": {
      "provenance": []
    },
    "kernelspec": {
      "name": "python3",
      "display_name": "Python 3"
    },
    "language_info": {
      "name": "python"
    }
  },
  "cells": [
    {
      "cell_type": "code",
      "execution_count": 2,
      "metadata": {
        "colab": {
          "base_uri": "https://localhost:8080/"
        },
        "id": "q6PkrAFONDpq",
        "outputId": "b8078f5e-a8d3-4762-b07e-d736c547e415"
      },
      "outputs": [
        {
          "output_type": "stream",
          "name": "stdout",
          "text": [
            "Collecting pyspark\n",
            "  Downloading pyspark-3.4.1.tar.gz (310.8 MB)\n",
            "\u001b[2K     \u001b[90m━━━━━━━━━━━━━━━━━━━━━━━━━━━━━━━━━━━━━━━\u001b[0m \u001b[32m310.8/310.8 MB\u001b[0m \u001b[31m4.3 MB/s\u001b[0m eta \u001b[36m0:00:00\u001b[0m\n",
            "\u001b[?25h  Preparing metadata (setup.py) ... \u001b[?25l\u001b[?25hdone\n",
            "Requirement already satisfied: py4j==0.10.9.7 in /usr/local/lib/python3.10/dist-packages (from pyspark) (0.10.9.7)\n",
            "Building wheels for collected packages: pyspark\n",
            "  Building wheel for pyspark (setup.py) ... \u001b[?25l\u001b[?25hdone\n",
            "  Created wheel for pyspark: filename=pyspark-3.4.1-py2.py3-none-any.whl size=311285397 sha256=2fb46a7f426faa5c4be6d8fdb3ce1ff29f547ff1ca48291b4b9d36738118f03a\n",
            "  Stored in directory: /root/.cache/pip/wheels/0d/77/a3/ff2f74cc9ab41f8f594dabf0579c2a7c6de920d584206e0834\n",
            "Successfully built pyspark\n",
            "Installing collected packages: pyspark\n",
            "Successfully installed pyspark-3.4.1\n"
          ]
        }
      ],
      "source": [
        "#!pip install pyspark\n",
        "\n",
        "import pyspark\n",
        "from pyspark.sql import SparkSession\n",
        "spark = SparkSession.builder.appName(\"Regression_Spark\").getOrCreate()"
      ]
    },
    {
      "cell_type": "code",
      "source": [
        "import random\n",
        "\n",
        "additional_rows = []\n",
        "\n",
        "for _ in range(60):  # Number of rows needed to reach 60\n",
        "    name = ''.join(random.choices('ABCDEFGHIJKLMNOPQRSTUVWXYZ', k=2))\n",
        "    age = random.randint(20, 60)\n",
        "    salary = random.randint(40000, 90000)\n",
        "    experience = random.randint(1, 30)\n",
        "    parameters = (name, age, salary, experience)\n",
        "    additional_rows.append(parameters)\n",
        "\n",
        "data = spark.createDataFrame(additional_rows, [\"name\", \"age\", \"salary\", \"experience\"])\n",
        "data.show()"
      ],
      "metadata": {
        "colab": {
          "base_uri": "https://localhost:8080/"
        },
        "id": "lvjWNsoEORfp",
        "outputId": "0efe3a1d-a918-4227-eb52-7201043a35ba"
      },
      "execution_count": 7,
      "outputs": [
        {
          "output_type": "stream",
          "name": "stdout",
          "text": [
            "+----+---+------+----------+\n",
            "|name|age|salary|experience|\n",
            "+----+---+------+----------+\n",
            "|  UZ| 36| 67397|         5|\n",
            "|  BK| 48| 52394|        27|\n",
            "|  LW| 50| 73074|        30|\n",
            "|  GC| 20| 49735|        14|\n",
            "|  LB| 27| 69004|        13|\n",
            "|  YR| 41| 60547|         7|\n",
            "|  TV| 30| 69285|         4|\n",
            "|  KH| 25| 57484|        26|\n",
            "|  AB| 35| 64738|        11|\n",
            "|  SR| 45| 45130|         6|\n",
            "|  XM| 28| 83385|        30|\n",
            "|  TQ| 56| 82785|         8|\n",
            "|  PC| 57| 41324|        23|\n",
            "|  JD| 20| 47820|         1|\n",
            "|  SG| 39| 62691|        19|\n",
            "|  DP| 34| 75992|        19|\n",
            "|  TU| 29| 73819|        13|\n",
            "|  TG| 46| 81376|        25|\n",
            "|  BN| 46| 88994|        12|\n",
            "|  YB| 50| 45185|         5|\n",
            "+----+---+------+----------+\n",
            "only showing top 20 rows\n",
            "\n"
          ]
        }
      ]
    },
    {
      "cell_type": "code",
      "source": [
        "from pyspark.ml.feature import VectorAssembler\n",
        "\n",
        "assembled = VectorAssembler(inputCols = [\"age\", \"experience\"],\n",
        "                            outputCol = \"Features\")\n",
        "\n",
        "output = assembled.transform(data)\n",
        "output.show()"
      ],
      "metadata": {
        "colab": {
          "base_uri": "https://localhost:8080/"
        },
        "id": "FhtPzR0sNjUA",
        "outputId": "b9c7b379-4713-42d9-92af-30e7ece1970c"
      },
      "execution_count": 9,
      "outputs": [
        {
          "output_type": "stream",
          "name": "stdout",
          "text": [
            "+----+---+------+----------+-----------+\n",
            "|name|age|salary|experience|   Features|\n",
            "+----+---+------+----------+-----------+\n",
            "|  UZ| 36| 67397|         5| [36.0,5.0]|\n",
            "|  BK| 48| 52394|        27|[48.0,27.0]|\n",
            "|  LW| 50| 73074|        30|[50.0,30.0]|\n",
            "|  GC| 20| 49735|        14|[20.0,14.0]|\n",
            "|  LB| 27| 69004|        13|[27.0,13.0]|\n",
            "|  YR| 41| 60547|         7| [41.0,7.0]|\n",
            "|  TV| 30| 69285|         4| [30.0,4.0]|\n",
            "|  KH| 25| 57484|        26|[25.0,26.0]|\n",
            "|  AB| 35| 64738|        11|[35.0,11.0]|\n",
            "|  SR| 45| 45130|         6| [45.0,6.0]|\n",
            "|  XM| 28| 83385|        30|[28.0,30.0]|\n",
            "|  TQ| 56| 82785|         8| [56.0,8.0]|\n",
            "|  PC| 57| 41324|        23|[57.0,23.0]|\n",
            "|  JD| 20| 47820|         1| [20.0,1.0]|\n",
            "|  SG| 39| 62691|        19|[39.0,19.0]|\n",
            "|  DP| 34| 75992|        19|[34.0,19.0]|\n",
            "|  TU| 29| 73819|        13|[29.0,13.0]|\n",
            "|  TG| 46| 81376|        25|[46.0,25.0]|\n",
            "|  BN| 46| 88994|        12|[46.0,12.0]|\n",
            "|  YB| 50| 45185|         5| [50.0,5.0]|\n",
            "+----+---+------+----------+-----------+\n",
            "only showing top 20 rows\n",
            "\n"
          ]
        }
      ]
    },
    {
      "cell_type": "code",
      "source": [
        "final_data = output.select([\"Features\", \"Salary\"])\n",
        "final_data.show()"
      ],
      "metadata": {
        "colab": {
          "base_uri": "https://localhost:8080/"
        },
        "id": "Z0bSK_F-NlyW",
        "outputId": "af6a3f2c-2c2c-45c3-b368-49815d133d8e"
      },
      "execution_count": 10,
      "outputs": [
        {
          "output_type": "stream",
          "name": "stdout",
          "text": [
            "+-----------+------+\n",
            "|   Features|Salary|\n",
            "+-----------+------+\n",
            "| [36.0,5.0]| 67397|\n",
            "|[48.0,27.0]| 52394|\n",
            "|[50.0,30.0]| 73074|\n",
            "|[20.0,14.0]| 49735|\n",
            "|[27.0,13.0]| 69004|\n",
            "| [41.0,7.0]| 60547|\n",
            "| [30.0,4.0]| 69285|\n",
            "|[25.0,26.0]| 57484|\n",
            "|[35.0,11.0]| 64738|\n",
            "| [45.0,6.0]| 45130|\n",
            "|[28.0,30.0]| 83385|\n",
            "| [56.0,8.0]| 82785|\n",
            "|[57.0,23.0]| 41324|\n",
            "| [20.0,1.0]| 47820|\n",
            "|[39.0,19.0]| 62691|\n",
            "|[34.0,19.0]| 75992|\n",
            "|[29.0,13.0]| 73819|\n",
            "|[46.0,25.0]| 81376|\n",
            "|[46.0,12.0]| 88994|\n",
            "| [50.0,5.0]| 45185|\n",
            "+-----------+------+\n",
            "only showing top 20 rows\n",
            "\n"
          ]
        }
      ]
    },
    {
      "cell_type": "code",
      "source": [
        "from pyspark.ml.regression import LinearRegression\n",
        "\n",
        "train_data, test_data = final_data.randomSplit([0.8, 0.2])\n",
        "\n",
        "regression = LinearRegression(featuresCol=\"Features\", labelCol=\"Salary\")\n",
        "regression = regression.fit(train_data)"
      ],
      "metadata": {
        "id": "6aSlOCaYWIA3"
      },
      "execution_count": 23,
      "outputs": []
    },
    {
      "cell_type": "code",
      "source": [
        "print(regression.intercept)\n",
        "print(regression.coefficients)"
      ],
      "metadata": {
        "colab": {
          "base_uri": "https://localhost:8080/"
        },
        "id": "rJnRYYEgG1b5",
        "outputId": "2551f74c-8742-4cd7-baa9-265b21f383b1"
      },
      "execution_count": 25,
      "outputs": [
        {
          "output_type": "stream",
          "name": "stdout",
          "text": [
            "60920.029034949985\n",
            "[-66.68197899805746,351.39201623853097]\n"
          ]
        }
      ]
    },
    {
      "cell_type": "code",
      "source": [
        "pred = regression.evaluate(test_data)\n",
        "pred.predictions.show()"
      ],
      "metadata": {
        "colab": {
          "base_uri": "https://localhost:8080/"
        },
        "id": "b_Iv17L1IRba",
        "outputId": "514cd538-c8d3-4054-bee7-1c815a166a3b"
      },
      "execution_count": 28,
      "outputs": [
        {
          "output_type": "stream",
          "name": "stdout",
          "text": [
            "+-----------+------+------------------+\n",
            "|   Features|Salary|        prediction|\n",
            "+-----------+------+------------------+\n",
            "|[25.0,26.0]| 57484| 68389.17198220035|\n",
            "|[27.0,17.0]| 89754| 65093.27987805746|\n",
            "| [56.0,8.0]| 82785| 59996.97434096701|\n",
            "|[24.0,28.0]| 87103| 69158.63799367547|\n",
            "|[33.0,11.0]| 44047| 62584.83590663793|\n",
            "|[38.0,13.0]| 54629|  62954.2100441247|\n",
            "|[41.0,13.0]| 75242|62754.164107130535|\n",
            "|[49.0,29.0]| 50661| 67842.98053496257|\n",
            "|[54.0,24.0]| 77297| 65752.61055877962|\n",
            "|[55.0,25.0]| 56656|  66037.3205960201|\n",
            "+-----------+------+------------------+\n",
            "\n"
          ]
        }
      ]
    }
  ]
}