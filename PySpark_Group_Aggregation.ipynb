{
  "nbformat": 4,
  "nbformat_minor": 0,
  "metadata": {
    "colab": {
      "provenance": []
    },
    "kernelspec": {
      "name": "python3",
      "display_name": "Python 3"
    },
    "language_info": {
      "name": "python"
    }
  },
  "cells": [
    {
      "cell_type": "code",
      "execution_count": 2,
      "metadata": {
        "colab": {
          "base_uri": "https://localhost:8080/",
          "height": 219
        },
        "id": "rjJso689dOS4",
        "outputId": "bd0b092c-5448-4b21-cbd0-6e4659de47fc"
      },
      "outputs": [
        {
          "output_type": "execute_result",
          "data": {
            "text/plain": [
              "<pyspark.sql.session.SparkSession at 0x79bc14e25840>"
            ],
            "text/html": [
              "\n",
              "            <div>\n",
              "                <p><b>SparkSession - in-memory</b></p>\n",
              "                \n",
              "        <div>\n",
              "            <p><b>SparkContext</b></p>\n",
              "\n",
              "            <p><a href=\"http://5b269b577ed8:4040\">Spark UI</a></p>\n",
              "\n",
              "            <dl>\n",
              "              <dt>Version</dt>\n",
              "                <dd><code>v3.4.1</code></dd>\n",
              "              <dt>Master</dt>\n",
              "                <dd><code>local[*]</code></dd>\n",
              "              <dt>AppName</dt>\n",
              "                <dd><code>group_agg</code></dd>\n",
              "            </dl>\n",
              "        </div>\n",
              "        \n",
              "            </div>\n",
              "        "
            ]
          },
          "metadata": {},
          "execution_count": 2
        }
      ],
      "source": [
        "#!pip install pyspark\n",
        "import pyspark\n",
        "\n",
        "from pyspark.sql import SparkSession\n",
        "\n",
        "spark = SparkSession.builder.appName(\"group_agg\").getOrCreate()\n"
      ]
    },
    {
      "cell_type": "code",
      "source": [
        "import random\n",
        "staff = [\"Alice\", \"Bob\", \"Charlie\", \"David\", \"Eva\", \"Frank\", \"Grace\", \"Henry\", \"Isabel\", \"Jack\"]\n",
        "age = list(random.randint(30, 65) for _ in range(10))\n",
        "salary = list(random.randint(40000, 90000) for _ in range(10))\n",
        "department = [\"Math\", \"Physics\", \"Human Resource\", \"Physics\", \"Math\", \"Physics\", \"Math\", \"Human Resource\", \"Math\", \"Math\"]\n",
        "\n",
        "data = list(zip(staff, age, salary, department))\n",
        "\n",
        "data = spark.createDataFrame(data, [\"Name\", \"Age\", \"Salary\", \"Department\"])\n",
        "data.show()"
      ],
      "metadata": {
        "colab": {
          "base_uri": "https://localhost:8080/"
        },
        "id": "-V7RdH2vsOkx",
        "outputId": "8979bd5b-d091-407a-e1f3-aed73502826e"
      },
      "execution_count": 43,
      "outputs": [
        {
          "output_type": "stream",
          "name": "stdout",
          "text": [
            "+-------+---+------+--------------+\n",
            "|   Name|Age|Salary|    Department|\n",
            "+-------+---+------+--------------+\n",
            "|  Alice| 41| 47522|          Math|\n",
            "|    Bob| 37| 63682|       Physics|\n",
            "|Charlie| 40| 89893|Human Resource|\n",
            "|  David| 42| 45607|       Physics|\n",
            "|    Eva| 39| 60491|          Math|\n",
            "|  Frank| 30| 80255|       Physics|\n",
            "|  Grace| 33| 42959|          Math|\n",
            "|  Henry| 40| 77280|Human Resource|\n",
            "| Isabel| 30| 84224|          Math|\n",
            "|   Jack| 38| 67555|          Math|\n",
            "+-------+---+------+--------------+\n",
            "\n"
          ]
        }
      ]
    },
    {
      "cell_type": "code",
      "source": [
        "data.printSchema()"
      ],
      "metadata": {
        "colab": {
          "base_uri": "https://localhost:8080/"
        },
        "id": "TF2jhj2nxico",
        "outputId": "134daa77-048f-4b3c-8b4c-2b6d75ae5e26"
      },
      "execution_count": 44,
      "outputs": [
        {
          "output_type": "stream",
          "name": "stdout",
          "text": [
            "root\n",
            " |-- Name: string (nullable = true)\n",
            " |-- Age: long (nullable = true)\n",
            " |-- Salary: long (nullable = true)\n",
            " |-- Department: string (nullable = true)\n",
            "\n"
          ]
        }
      ]
    },
    {
      "cell_type": "code",
      "source": [
        "data.select([\"Department\", \"Salary\"]).groupBy(\"Department\").mean().show()"
      ],
      "metadata": {
        "colab": {
          "base_uri": "https://localhost:8080/"
        },
        "id": "8UXfMTKWxy79",
        "outputId": "898d07d8-5e99-4440-b652-5d5efca8d9d5"
      },
      "execution_count": 55,
      "outputs": [
        {
          "output_type": "stream",
          "name": "stdout",
          "text": [
            "+--------------+------------------+\n",
            "|    Department|       avg(Salary)|\n",
            "+--------------+------------------+\n",
            "|          Math|           60550.2|\n",
            "|Human Resource|           83586.5|\n",
            "|       Physics|63181.333333333336|\n",
            "+--------------+------------------+\n",
            "\n"
          ]
        }
      ]
    },
    {
      "cell_type": "code",
      "source": [
        "data.groupBy(\"Department\").count().show()"
      ],
      "metadata": {
        "colab": {
          "base_uri": "https://localhost:8080/"
        },
        "id": "0knKMEQ9yBhe",
        "outputId": "0ddf9b1a-4d7c-4cdb-ec71-26ce8dc7c5a2"
      },
      "execution_count": 56,
      "outputs": [
        {
          "output_type": "stream",
          "name": "stdout",
          "text": [
            "+--------------+-----+\n",
            "|    Department|count|\n",
            "+--------------+-----+\n",
            "|          Math|    5|\n",
            "|Human Resource|    2|\n",
            "|       Physics|    3|\n",
            "+--------------+-----+\n",
            "\n"
          ]
        }
      ]
    },
    {
      "cell_type": "code",
      "source": [
        "mean_salary = data.select([\"Department\", \"Salary\"]).groupBy(\"Department\").mean()\n",
        "mean_salary.orderBy(\"avg(Salary)\").show()"
      ],
      "metadata": {
        "colab": {
          "base_uri": "https://localhost:8080/"
        },
        "id": "1GKLr4pjz_ZF",
        "outputId": "532d51ee-b1e2-4203-cb00-2ad004d733d9"
      },
      "execution_count": 66,
      "outputs": [
        {
          "output_type": "stream",
          "name": "stdout",
          "text": [
            "+--------------+------------------+\n",
            "|    Department|       avg(Salary)|\n",
            "+--------------+------------------+\n",
            "|          Math|           60550.2|\n",
            "|       Physics|63181.333333333336|\n",
            "|Human Resource|           83586.5|\n",
            "+--------------+------------------+\n",
            "\n"
          ]
        }
      ]
    },
    {
      "cell_type": "code",
      "source": [
        "data.orderBy(\"Salary\").show()"
      ],
      "metadata": {
        "colab": {
          "base_uri": "https://localhost:8080/"
        },
        "id": "jFflI7852ZgA",
        "outputId": "41d070b2-241b-4943-eb5d-ad5493d36b31"
      },
      "execution_count": 71,
      "outputs": [
        {
          "output_type": "stream",
          "name": "stdout",
          "text": [
            "+-------+---+------+--------------+\n",
            "|   Name|Age|Salary|    Department|\n",
            "+-------+---+------+--------------+\n",
            "|  Grace| 33| 42959|          Math|\n",
            "|  David| 42| 45607|       Physics|\n",
            "|  Alice| 41| 47522|          Math|\n",
            "|    Eva| 39| 60491|          Math|\n",
            "|    Bob| 37| 63682|       Physics|\n",
            "|   Jack| 38| 67555|          Math|\n",
            "|  Henry| 40| 77280|Human Resource|\n",
            "|  Frank| 30| 80255|       Physics|\n",
            "| Isabel| 30| 84224|          Math|\n",
            "|Charlie| 40| 89893|Human Resource|\n",
            "+-------+---+------+--------------+\n",
            "\n"
          ]
        }
      ]
    },
    {
      "cell_type": "code",
      "source": [
        "# problem Who is aged under 40 and is the youngest, math, earning the highest\n",
        "\n",
        "math_youngsters = data.filter((data[\"Department\"] == \"Math\") & (data[\"Age\"] <= 40))\n",
        "math_youngsters.orderBy(math_youngsters[\"Salary\"]).show()"
      ],
      "metadata": {
        "colab": {
          "base_uri": "https://localhost:8080/"
        },
        "id": "cj-XGnkEz1f5",
        "outputId": "534bee17-dfb3-4872-d0cb-c737eba25d7f"
      },
      "execution_count": 81,
      "outputs": [
        {
          "output_type": "stream",
          "name": "stdout",
          "text": [
            "+------+---+------+----------+\n",
            "|  Name|Age|Salary|Department|\n",
            "+------+---+------+----------+\n",
            "| Grace| 33| 42959|      Math|\n",
            "|   Eva| 39| 60491|      Math|\n",
            "|  Jack| 38| 67555|      Math|\n",
            "|Isabel| 30| 84224|      Math|\n",
            "+------+---+------+----------+\n",
            "\n"
          ]
        }
      ]
    },
    {
      "cell_type": "code",
      "source": [
        "data.select([\"Age\", \"Department\", \"Salary\"]).groupBy(\"Department\").avg().show()"
      ],
      "metadata": {
        "colab": {
          "base_uri": "https://localhost:8080/"
        },
        "id": "qBjGB1wxJYzq",
        "outputId": "1f799357-3832-4335-9135-76e856c2a509"
      },
      "execution_count": 87,
      "outputs": [
        {
          "output_type": "stream",
          "name": "stdout",
          "text": [
            "+--------------+------------------+------------------+\n",
            "|    Department|          avg(Age)|       avg(Salary)|\n",
            "+--------------+------------------+------------------+\n",
            "|          Math|              36.2|           60550.2|\n",
            "|Human Resource|              40.0|           83586.5|\n",
            "|       Physics|36.333333333333336|63181.333333333336|\n",
            "+--------------+------------------+------------------+\n",
            "\n"
          ]
        }
      ]
    },
    {
      "cell_type": "code",
      "source": [
        "data.show()\n",
        "\n",
        "data.orderBy([\"Department\", \"Salary\", \"Age\"]).show()"
      ],
      "metadata": {
        "colab": {
          "base_uri": "https://localhost:8080/"
        },
        "id": "JHwSgRypKPLq",
        "outputId": "4d56d6cb-7d32-4d0b-e861-3f2d781c5768"
      },
      "execution_count": 100,
      "outputs": [
        {
          "output_type": "stream",
          "name": "stdout",
          "text": [
            "+-------+---+------+--------------+\n",
            "|   Name|Age|Salary|    Department|\n",
            "+-------+---+------+--------------+\n",
            "|  Alice| 41| 47522|          Math|\n",
            "|    Bob| 37| 63682|       Physics|\n",
            "|Charlie| 40| 89893|Human Resource|\n",
            "|  David| 42| 45607|       Physics|\n",
            "|    Eva| 39| 60491|          Math|\n",
            "|  Frank| 30| 80255|       Physics|\n",
            "|  Grace| 33| 42959|          Math|\n",
            "|  Henry| 40| 77280|Human Resource|\n",
            "| Isabel| 30| 84224|          Math|\n",
            "|   Jack| 38| 67555|          Math|\n",
            "+-------+---+------+--------------+\n",
            "\n",
            "+-------+---+------+--------------+\n",
            "|   Name|Age|Salary|    Department|\n",
            "+-------+---+------+--------------+\n",
            "|  Henry| 40| 77280|Human Resource|\n",
            "|Charlie| 40| 89893|Human Resource|\n",
            "|  Grace| 33| 42959|          Math|\n",
            "|  Alice| 41| 47522|          Math|\n",
            "|    Eva| 39| 60491|          Math|\n",
            "|   Jack| 38| 67555|          Math|\n",
            "| Isabel| 30| 84224|          Math|\n",
            "|  David| 42| 45607|       Physics|\n",
            "|    Bob| 37| 63682|       Physics|\n",
            "|  Frank| 30| 80255|       Physics|\n",
            "+-------+---+------+--------------+\n",
            "\n"
          ]
        }
      ]
    }
  ]
}